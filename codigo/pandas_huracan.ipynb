{
 "cells": [
  {
   "cell_type": "markdown",
   "id": "1e5a056b",
   "metadata": {},
   "source": [
    "## Huracanes 2005"
   ]
  },
  {
   "cell_type": "code",
   "execution_count": 2,
   "id": "ad04f1b1",
   "metadata": {},
   "outputs": [],
   "source": [
    "import pandas as pd"
   ]
  },
  {
   "cell_type": "code",
   "execution_count": 4,
   "id": "1a41079c",
   "metadata": {},
   "outputs": [
    {
     "data": {
      "text/html": [
       "<div>\n",
       "<style scoped>\n",
       "    .dataframe tbody tr th:only-of-type {\n",
       "        vertical-align: middle;\n",
       "    }\n",
       "\n",
       "    .dataframe tbody tr th {\n",
       "        vertical-align: top;\n",
       "    }\n",
       "\n",
       "    .dataframe thead th {\n",
       "        text-align: right;\n",
       "    }\n",
       "</style>\n",
       "<table border=\"1\" class=\"dataframe\">\n",
       "  <thead>\n",
       "    <tr style=\"text-align: right;\">\n",
       "      <th></th>\n",
       "      <th>Lat</th>\n",
       "      <th>Lon</th>\n",
       "      <th>Wind</th>\n",
       "      <th>Pressure</th>\n",
       "      <th>Storm Type</th>\n",
       "      <th>Category</th>\n",
       "      <th>DateTime</th>\n",
       "    </tr>\n",
       "  </thead>\n",
       "  <tbody>\n",
       "    <tr>\n",
       "      <th>0</th>\n",
       "      <td>16.4</td>\n",
       "      <td>-30.3</td>\n",
       "      <td>50</td>\n",
       "      <td>1004</td>\n",
       "      <td>Tropical Storm</td>\n",
       "      <td>-</td>\n",
       "      <td>2005-08-30 15:00:00</td>\n",
       "    </tr>\n",
       "    <tr>\n",
       "      <th>1</th>\n",
       "      <td>16.4</td>\n",
       "      <td>-31.2</td>\n",
       "      <td>60</td>\n",
       "      <td>1001</td>\n",
       "      <td>Tropical Storm</td>\n",
       "      <td>-</td>\n",
       "      <td>2005-08-30 21:00:00</td>\n",
       "    </tr>\n",
       "  </tbody>\n",
       "</table>\n",
       "</div>"
      ],
      "text/plain": [
       "    Lat   Lon  Wind  Pressure      Storm Type Category             DateTime\n",
       "0  16.4 -30.3    50      1004  Tropical Storm        -  2005-08-30 15:00:00\n",
       "1  16.4 -31.2    60      1001  Tropical Storm        -  2005-08-30 21:00:00"
      ]
     },
     "execution_count": 4,
     "metadata": {},
     "output_type": "execute_result"
    }
   ],
   "source": [
    "dfHu = pd.read_csv(\"./irma.csv\", sep=';')\n",
    "dfHu.head(2)"
   ]
  },
  {
   "cell_type": "code",
   "execution_count": 5,
   "id": "31a0eb28",
   "metadata": {},
   "outputs": [
    {
     "data": {
      "text/html": [
       "<div>\n",
       "<style scoped>\n",
       "    .dataframe tbody tr th:only-of-type {\n",
       "        vertical-align: middle;\n",
       "    }\n",
       "\n",
       "    .dataframe tbody tr th {\n",
       "        vertical-align: top;\n",
       "    }\n",
       "\n",
       "    .dataframe thead th {\n",
       "        text-align: right;\n",
       "    }\n",
       "</style>\n",
       "<table border=\"1\" class=\"dataframe\">\n",
       "  <thead>\n",
       "    <tr style=\"text-align: right;\">\n",
       "      <th></th>\n",
       "      <th>categoria</th>\n",
       "      <th>descripcion</th>\n",
       "      <th>color</th>\n",
       "      <th>nudos_min</th>\n",
       "      <th>nudos_max</th>\n",
       "    </tr>\n",
       "  </thead>\n",
       "  <tbody>\n",
       "    <tr>\n",
       "      <th>0</th>\n",
       "      <td>TD</td>\n",
       "      <td>Depresion Tropical</td>\n",
       "      <td>deepskyblue</td>\n",
       "      <td>0</td>\n",
       "      <td>33</td>\n",
       "    </tr>\n",
       "    <tr>\n",
       "      <th>1</th>\n",
       "      <td>TS</td>\n",
       "      <td>Tormenta Tropical</td>\n",
       "      <td>lime</td>\n",
       "      <td>34</td>\n",
       "      <td>63</td>\n",
       "    </tr>\n",
       "    <tr>\n",
       "      <th>2</th>\n",
       "      <td>C1</td>\n",
       "      <td>Categoria 1</td>\n",
       "      <td>yellow</td>\n",
       "      <td>64</td>\n",
       "      <td>82</td>\n",
       "    </tr>\n",
       "  </tbody>\n",
       "</table>\n",
       "</div>"
      ],
      "text/plain": [
       "  categoria         descripcion        color  nudos_min  nudos_max\n",
       "0        TD  Depresion Tropical  deepskyblue          0         33\n",
       "1        TS   Tormenta Tropical         lime         34         63\n",
       "2        C1         Categoria 1       yellow         64         82"
      ]
     },
     "execution_count": 5,
     "metadata": {},
     "output_type": "execute_result"
    }
   ],
   "source": [
    "dfEsc = pd.read_excel('escala_saffir_simpson.xlsx')\n",
    "dfEsc.head(3)"
   ]
  },
  {
   "cell_type": "code",
   "execution_count": 11,
   "id": "acb8f477",
   "metadata": {},
   "outputs": [
    {
     "name": "stdout",
     "output_type": "stream",
     "text": [
      "TD deepskyblue 0 33 (3, 7)\n",
      "TS lime 34 63 (6, 7)\n",
      "C1 yellow 64 82 (5, 7)\n",
      "C2 gold 83 95 (1, 7)\n",
      "C3 orange 96 113 (15, 7)\n",
      "C4 red 114 135 (50, 7)\n",
      "C5 magenta 136 500 (50, 7)\n"
     ]
    }
   ],
   "source": [
    "# Iterador para recorrer el DataFrame:\n",
    "for r in dfEsc.iterrows():\n",
    "    cat = r[1]['categoria']\n",
    "    color = r[1]['color']\n",
    "    nudos_min = r[1]['nudos_min']\n",
    "    nudos_max = r[1]['nudos_max']\n",
    "        \n",
    "    aux = dfHu[(dfHu.Wind >= nudos_min) & (dfHu.Wind <= nudos_max)]\n",
    "    if len(aux) > 0:\n",
    "        print(cat, color, nudos_min, nudos_max, aux.shape)"
   ]
  },
  {
   "cell_type": "code",
   "execution_count": null,
   "id": "b94d9683",
   "metadata": {},
   "outputs": [],
   "source": []
  }
 ],
 "metadata": {
  "kernelspec": {
   "display_name": "Python 3 (ipykernel)",
   "language": "python",
   "name": "python3"
  },
  "language_info": {
   "codemirror_mode": {
    "name": "ipython",
    "version": 3
   },
   "file_extension": ".py",
   "mimetype": "text/x-python",
   "name": "python",
   "nbconvert_exporter": "python",
   "pygments_lexer": "ipython3",
   "version": "3.11.5"
  }
 },
 "nbformat": 4,
 "nbformat_minor": 5
}
